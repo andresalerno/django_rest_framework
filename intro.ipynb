{
 "cells": [
  {
   "cell_type": "code",
   "execution_count": 2,
   "metadata": {
    "vscode": {
     "languageId": "powershell"
    }
   },
   "outputs": [],
   "source": [
    "# Set up a new project with a single application\n",
    "!django-admin startproject tutorial ."
   ]
  },
  {
   "cell_type": "code",
   "execution_count": 3,
   "metadata": {
    "vscode": {
     "languageId": "powershell"
    }
   },
   "outputs": [],
   "source": [
    "!cd tutorial"
   ]
  },
  {
   "cell_type": "code",
   "execution_count": 4,
   "metadata": {
    "vscode": {
     "languageId": "powershell"
    }
   },
   "outputs": [],
   "source": [
    "!django-admin startapp quickstart"
   ]
  },
  {
   "cell_type": "code",
   "execution_count": 5,
   "metadata": {
    "vscode": {
     "languageId": "powershell"
    }
   },
   "outputs": [],
   "source": [
    "!cd .."
   ]
  },
  {
   "cell_type": "code",
   "execution_count": 6,
   "metadata": {
    "vscode": {
     "languageId": "powershell"
    }
   },
   "outputs": [
    {
     "name": "stdout",
     "output_type": "stream",
     "text": [
      "Operations to perform:\n",
      "  Apply all migrations: admin, auth, contenttypes, sessions\n",
      "Running migrations:\n",
      "  Applying contenttypes.0001_initial... OK\n",
      "  Applying auth.0001_initial... OK\n",
      "  Applying admin.0001_initial... OK\n",
      "  Applying admin.0002_logentry_remove_auto_add... OK\n",
      "  Applying admin.0003_logentry_add_action_flag_choices... OK\n",
      "  Applying contenttypes.0002_remove_content_type_name... OK\n",
      "  Applying auth.0002_alter_permission_name_max_length... OK\n",
      "  Applying auth.0003_alter_user_email_max_length... OK\n",
      "  Applying auth.0004_alter_user_username_opts... OK\n",
      "  Applying auth.0005_alter_user_last_login_null... OK\n",
      "  Applying auth.0006_require_contenttypes_0002... OK\n",
      "  Applying auth.0007_alter_validators_add_error_messages... OK\n",
      "  Applying auth.0008_alter_user_username_max_length... OK\n",
      "  Applying auth.0009_alter_user_last_name_max_length... OK\n",
      "  Applying auth.0010_alter_group_name_max_length... OK\n",
      "  Applying auth.0011_update_proxy_permissions... OK\n",
      "  Applying auth.0012_alter_user_first_name_max_length... OK\n",
      "  Applying sessions.0001_initial... OK\n"
     ]
    }
   ],
   "source": [
    "!python manage.py migrate"
   ]
  },
  {
   "cell_type": "code",
   "execution_count": 9,
   "metadata": {
    "vscode": {
     "languageId": "powershell"
    }
   },
   "outputs": [
    {
     "name": "stdout",
     "output_type": "stream",
     "text": [
      "Superuser creation skipped due to not running in a TTY. You can run `manage.py createsuperuser` in your project to create one manually.\n"
     ]
    }
   ],
   "source": [
    "# cd django_rest_framework where relies tha manage.py file\n",
    "!python manage.py createsuperuser --email contato@datafintechsolutions.com --username admin"
   ]
  },
  {
   "cell_type": "code",
   "execution_count": null,
   "metadata": {
    "vscode": {
     "languageId": "powershell"
    }
   },
   "outputs": [],
   "source": [
    "# we have to use in GitBash\n",
    "!curl -H 'Accept: application/json; indent=4' -u admin:admin123456 http://127.0.0.1:8000/users/"
   ]
  }
 ],
 "metadata": {
  "kernelspec": {
   "display_name": ".venv",
   "language": "python",
   "name": "python3"
  },
  "language_info": {
   "codemirror_mode": {
    "name": "ipython",
    "version": 3
   },
   "file_extension": ".py",
   "mimetype": "text/x-python",
   "name": "python",
   "nbconvert_exporter": "python",
   "pygments_lexer": "ipython3",
   "version": "3.11.3"
  },
  "orig_nbformat": 4
 },
 "nbformat": 4,
 "nbformat_minor": 2
}
